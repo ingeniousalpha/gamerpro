{
 "cells": [
  {
   "cell_type": "code",
   "execution_count": 1,
   "id": "0d4c7bdb",
   "metadata": {
    "code_folding": [
     0
    ]
   },
   "outputs": [
    {
     "name": "stderr",
     "output_type": "stream",
     "text": [
      "/var/folders/y4/vrx7plks4j73fmjfmdz2gsk00000gn/T/ipykernel_5307/1677521232.py:20: DeprecationWarning: Importing display from IPython.core.display is deprecated since IPython 7.14, please import from IPython display\n",
      "  from IPython.core.display import display, HTML\n"
     ]
    },
    {
     "data": {
      "text/html": [
       "<style>.container { width:100% !important; }</style>"
      ],
      "text/plain": [
       "<IPython.core.display.HTML object>"
      ]
     },
     "metadata": {},
     "output_type": "display_data"
    }
   ],
   "source": [
    "# Imports / Configs / Global vars\n",
    "\n",
    "# Import of native python tools\n",
    "import os\n",
    "import json\n",
    "from functools import reduce\n",
    "\n",
    "# Import of base ML stack libs\n",
    "import numpy as np\n",
    "import sklearn as sc\n",
    "\n",
    "# Logging configuraiton\n",
    "import logging\n",
    "logging.basicConfig(format='[ %(asctime)s ][ %(levelname)s ]: %(message)s', datefmt='%m/%d/%Y %I:%M:%S %p')\n",
    "logger = logging.getLogger()\n",
    "logger.setLevel(logging.INFO)\n",
    "\n",
    "\n",
    "# Ipython configs\n",
    "from IPython.core.display import display, HTML\n",
    "from IPython.core.interactiveshell import InteractiveShell\n",
    "display(HTML(\"<style>.container { width:100% !important; }</style>\"))\n",
    "InteractiveShell.ast_node_interactivity = 'all'\n",
    "\n",
    "# Pandas configs\n",
    "import pandas as pd\n",
    "pd.options.display.max_rows = 350\n",
    "pd.options.display.max_columns = 250\n",
    "\n",
    "# Jupyter configs\n",
    "%load_ext autoreload\n",
    "%autoreload 2\n",
    "%config Completer.use_jedi = False\n",
    "\n",
    "# GLOBAL VARS\n",
    "from pathlib import Path\n",
    "import sys\n",
    "PROJECT_DIR = os.getcwd().rsplit('/', 1)[0]\n",
    "\n",
    "if PROJECT_DIR not in sys.path:\n",
    "    sys.path.append(PROJECT_DIR)"
   ]
  },
  {
   "cell_type": "markdown",
   "id": "1fef11bd",
   "metadata": {},
   "source": [
    "# Main\n"
   ]
  },
  {
   "cell_type": "code",
   "execution_count": 2,
   "id": "52263156",
   "metadata": {},
   "outputs": [
    {
     "ename": "NameError",
     "evalue": "name 'PROJECT_CONF_DIR' is not defined",
     "output_type": "error",
     "traceback": [
      "\u001b[0;31m---------------------------------------------------------------------------\u001b[0m",
      "\u001b[0;31mNameError\u001b[0m                                 Traceback (most recent call last)",
      "Cell \u001b[0;32mIn[2], line 6\u001b[0m\n\u001b[1;32m      2\u001b[0m \u001b[38;5;28;01mfrom\u001b[39;00m \u001b[38;5;21;01mkedro\u001b[39;00m\u001b[38;5;21;01m.\u001b[39;00m\u001b[38;5;21;01mframework\u001b[39;00m\u001b[38;5;21;01m.\u001b[39;00m\u001b[38;5;21;01mcontext\u001b[39;00m \u001b[38;5;28;01mimport\u001b[39;00m KedroContext\n\u001b[1;32m      3\u001b[0m \u001b[38;5;28;01mfrom\u001b[39;00m \u001b[38;5;21;01mkedro\u001b[39;00m\u001b[38;5;21;01m.\u001b[39;00m\u001b[38;5;21;01mframework\u001b[39;00m\u001b[38;5;21;01m.\u001b[39;00m\u001b[38;5;21;01mhooks\u001b[39;00m \u001b[38;5;28;01mimport\u001b[39;00m _create_hook_manager\n\u001b[0;32m----> 6\u001b[0m config_loader \u001b[38;5;241m=\u001b[39m ConfigLoader(conf_source\u001b[38;5;241m=\u001b[39m\u001b[43mPROJECT_CONF_DIR\u001b[49m)\n\u001b[1;32m      8\u001b[0m context \u001b[38;5;241m=\u001b[39m KedroContext(\n\u001b[1;32m      9\u001b[0m     package_name\u001b[38;5;241m=\u001b[39m\u001b[38;5;124m\"\u001b[39m\u001b[38;5;124mpipelines\u001b[39m\u001b[38;5;124m\"\u001b[39m,\n\u001b[1;32m     10\u001b[0m     project_path\u001b[38;5;241m=\u001b[39mPROJECT_DIR,\n\u001b[1;32m     11\u001b[0m     config_loader\u001b[38;5;241m=\u001b[39mconfig_loader,\n\u001b[1;32m     12\u001b[0m     hook_manager\u001b[38;5;241m=\u001b[39m_create_hook_manager(),\n\u001b[1;32m     13\u001b[0m )\n",
      "\u001b[0;31mNameError\u001b[0m: name 'PROJECT_CONF_DIR' is not defined"
     ]
    }
   ],
   "source": [
    "from kedro.config import ConfigLoader\n",
    "from kedro.framework.context import KedroContext\n",
    "from kedro.framework.hooks import _create_hook_manager\n",
    "\n",
    "\n",
    "config_loader = ConfigLoader(conf_source=PROJECT_CONF_DIR)\n",
    "\n",
    "context = KedroContext(\n",
    "    package_name=\"pipelines\",\n",
    "    project_path=PROJECT_DIR,\n",
    "    config_loader=config_loader,\n",
    "    hook_manager=_create_hook_manager(),\n",
    ")"
   ]
  },
  {
   "cell_type": "code",
   "execution_count": 4,
   "id": "ea9aebe9",
   "metadata": {},
   "outputs": [
    {
     "data": {
      "text/html": [
       "<pre style=\"white-space:pre;overflow-x:auto;line-height:normal;font-family:Menlo,'DejaVu Sans Mono',consolas,'Courier New',monospace\"><span style=\"color: #7fbfbf; text-decoration-color: #7fbfbf\">[01/05/23 12:20:39] </span><span style=\"color: #000080; text-decoration-color: #000080\">INFO    </span> Kedro project template_kedro_streamlit                                  <a href=\"file:///Users/arashitov/Library/Caches/pypoetry/virtualenvs/template-kedro-streamlit-vp26F0aP-py3.10/lib/python3.10/site-packages/kedro/framework/session/session.py\" target=\"_blank\"><span style=\"color: #7f7f7f; text-decoration-color: #7f7f7f\">session.py</span></a><span style=\"color: #7f7f7f; text-decoration-color: #7f7f7f\">:</span><a href=\"file:///Users/arashitov/Library/Caches/pypoetry/virtualenvs/template-kedro-streamlit-vp26F0aP-py3.10/lib/python3.10/site-packages/kedro/framework/session/session.py#340\" target=\"_blank\"><span style=\"color: #7f7f7f; text-decoration-color: #7f7f7f\">340</span></a>\n",
       "</pre>\n"
      ],
      "text/plain": [
       "\u001b[2;36m[01/05/23 12:20:39]\u001b[0m\u001b[2;36m \u001b[0m\u001b[34mINFO    \u001b[0m Kedro project template_kedro_streamlit                                  \u001b]8;id=934547;file:///Users/arashitov/Library/Caches/pypoetry/virtualenvs/template-kedro-streamlit-vp26F0aP-py3.10/lib/python3.10/site-packages/kedro/framework/session/session.py\u001b\\\u001b[2msession.py\u001b[0m\u001b]8;;\u001b\\\u001b[2m:\u001b[0m\u001b]8;id=26842;file:///Users/arashitov/Library/Caches/pypoetry/virtualenvs/template-kedro-streamlit-vp26F0aP-py3.10/lib/python3.10/site-packages/kedro/framework/session/session.py#340\u001b\\\u001b[2m340\u001b[0m\u001b]8;;\u001b\\\n"
      ]
     },
     "metadata": {},
     "output_type": "display_data"
    },
    {
     "data": {
      "text/html": [
       "<pre style=\"white-space:pre;overflow-x:auto;line-height:normal;font-family:Menlo,'DejaVu Sans Mono',consolas,'Courier New',monospace\"><span style=\"color: #7fbfbf; text-decoration-color: #7fbfbf\">                    </span><span style=\"color: #000080; text-decoration-color: #000080\">INFO    </span> Loading data from <span style=\"color: #008000; text-decoration-color: #008000\">'params:agg.agg_columns'</span> <span style=\"font-weight: bold\">(</span>MemoryDataSet<span style=\"font-weight: bold\">)</span><span style=\"color: #808000; text-decoration-color: #808000\">...</span>      <a href=\"file:///Users/arashitov/Library/Caches/pypoetry/virtualenvs/template-kedro-streamlit-vp26F0aP-py3.10/lib/python3.10/site-packages/kedro/io/data_catalog.py\" target=\"_blank\"><span style=\"color: #7f7f7f; text-decoration-color: #7f7f7f\">data_catalog.py</span></a><span style=\"color: #7f7f7f; text-decoration-color: #7f7f7f\">:</span><a href=\"file:///Users/arashitov/Library/Caches/pypoetry/virtualenvs/template-kedro-streamlit-vp26F0aP-py3.10/lib/python3.10/site-packages/kedro/io/data_catalog.py#343\" target=\"_blank\"><span style=\"color: #7f7f7f; text-decoration-color: #7f7f7f\">343</span></a>\n",
       "</pre>\n"
      ],
      "text/plain": [
       "\u001b[2;36m                   \u001b[0m\u001b[2;36m \u001b[0m\u001b[34mINFO    \u001b[0m Loading data from \u001b[32m'params:agg.agg_columns'\u001b[0m \u001b[1m(\u001b[0mMemoryDataSet\u001b[1m)\u001b[0m\u001b[33m...\u001b[0m      \u001b]8;id=302078;file:///Users/arashitov/Library/Caches/pypoetry/virtualenvs/template-kedro-streamlit-vp26F0aP-py3.10/lib/python3.10/site-packages/kedro/io/data_catalog.py\u001b\\\u001b[2mdata_catalog.py\u001b[0m\u001b]8;;\u001b\\\u001b[2m:\u001b[0m\u001b]8;id=273758;file:///Users/arashitov/Library/Caches/pypoetry/virtualenvs/template-kedro-streamlit-vp26F0aP-py3.10/lib/python3.10/site-packages/kedro/io/data_catalog.py#343\u001b\\\u001b[2m343\u001b[0m\u001b]8;;\u001b\\\n"
      ]
     },
     "metadata": {},
     "output_type": "display_data"
    },
    {
     "data": {
      "text/html": [
       "<pre style=\"white-space:pre;overflow-x:auto;line-height:normal;font-family:Menlo,'DejaVu Sans Mono',consolas,'Courier New',monospace\"><span style=\"color: #7fbfbf; text-decoration-color: #7fbfbf\">                    </span><span style=\"color: #000080; text-decoration-color: #000080\">INFO    </span> Loading data from <span style=\"color: #008000; text-decoration-color: #008000\">'params:agg.agg_params'</span> <span style=\"font-weight: bold\">(</span>MemoryDataSet<span style=\"font-weight: bold\">)</span><span style=\"color: #808000; text-decoration-color: #808000\">...</span>       <a href=\"file:///Users/arashitov/Library/Caches/pypoetry/virtualenvs/template-kedro-streamlit-vp26F0aP-py3.10/lib/python3.10/site-packages/kedro/io/data_catalog.py\" target=\"_blank\"><span style=\"color: #7f7f7f; text-decoration-color: #7f7f7f\">data_catalog.py</span></a><span style=\"color: #7f7f7f; text-decoration-color: #7f7f7f\">:</span><a href=\"file:///Users/arashitov/Library/Caches/pypoetry/virtualenvs/template-kedro-streamlit-vp26F0aP-py3.10/lib/python3.10/site-packages/kedro/io/data_catalog.py#343\" target=\"_blank\"><span style=\"color: #7f7f7f; text-decoration-color: #7f7f7f\">343</span></a>\n",
       "</pre>\n"
      ],
      "text/plain": [
       "\u001b[2;36m                   \u001b[0m\u001b[2;36m \u001b[0m\u001b[34mINFO    \u001b[0m Loading data from \u001b[32m'params:agg.agg_params'\u001b[0m \u001b[1m(\u001b[0mMemoryDataSet\u001b[1m)\u001b[0m\u001b[33m...\u001b[0m       \u001b]8;id=965308;file:///Users/arashitov/Library/Caches/pypoetry/virtualenvs/template-kedro-streamlit-vp26F0aP-py3.10/lib/python3.10/site-packages/kedro/io/data_catalog.py\u001b\\\u001b[2mdata_catalog.py\u001b[0m\u001b]8;;\u001b\\\u001b[2m:\u001b[0m\u001b]8;id=16690;file:///Users/arashitov/Library/Caches/pypoetry/virtualenvs/template-kedro-streamlit-vp26F0aP-py3.10/lib/python3.10/site-packages/kedro/io/data_catalog.py#343\u001b\\\u001b[2m343\u001b[0m\u001b]8;;\u001b\\\n"
      ]
     },
     "metadata": {},
     "output_type": "display_data"
    },
    {
     "data": {
      "text/html": [
       "<pre style=\"white-space:pre;overflow-x:auto;line-height:normal;font-family:Menlo,'DejaVu Sans Mono',consolas,'Courier New',monospace\"><span style=\"color: #7fbfbf; text-decoration-color: #7fbfbf\">                    </span><span style=\"color: #000080; text-decoration-color: #000080\">INFO    </span> Running node: factory_agg_parameters:                                      <a href=\"file:///Users/arashitov/Library/Caches/pypoetry/virtualenvs/template-kedro-streamlit-vp26F0aP-py3.10/lib/python3.10/site-packages/kedro/pipeline/node.py\" target=\"_blank\"><span style=\"color: #7f7f7f; text-decoration-color: #7f7f7f\">node.py</span></a><span style=\"color: #7f7f7f; text-decoration-color: #7f7f7f\">:</span><a href=\"file:///Users/arashitov/Library/Caches/pypoetry/virtualenvs/template-kedro-streamlit-vp26F0aP-py3.10/lib/python3.10/site-packages/kedro/pipeline/node.py#327\" target=\"_blank\"><span style=\"color: #7f7f7f; text-decoration-color: #7f7f7f\">327</span></a>\n",
       "<span style=\"color: #7fbfbf; text-decoration-color: #7fbfbf\">                    </span>         <span style=\"color: #800080; text-decoration-color: #800080; font-weight: bold\">factory_agg_params</span><span style=\"font-weight: bold\">([</span>params:agg.agg_columns,params:agg.agg_params<span style=\"font-weight: bold\">])</span> -&gt;      <span style=\"color: #7f7f7f; text-decoration-color: #7f7f7f\">           </span>\n",
       "<span style=\"color: #7fbfbf; text-decoration-color: #7fbfbf\">                    </span>         <span style=\"font-weight: bold\">[</span>agg_params<span style=\"font-weight: bold\">]</span>                                                               <span style=\"color: #7f7f7f; text-decoration-color: #7f7f7f\">           </span>\n",
       "</pre>\n"
      ],
      "text/plain": [
       "\u001b[2;36m                   \u001b[0m\u001b[2;36m \u001b[0m\u001b[34mINFO    \u001b[0m Running node: factory_agg_parameters:                                      \u001b]8;id=404122;file:///Users/arashitov/Library/Caches/pypoetry/virtualenvs/template-kedro-streamlit-vp26F0aP-py3.10/lib/python3.10/site-packages/kedro/pipeline/node.py\u001b\\\u001b[2mnode.py\u001b[0m\u001b]8;;\u001b\\\u001b[2m:\u001b[0m\u001b]8;id=809516;file:///Users/arashitov/Library/Caches/pypoetry/virtualenvs/template-kedro-streamlit-vp26F0aP-py3.10/lib/python3.10/site-packages/kedro/pipeline/node.py#327\u001b\\\u001b[2m327\u001b[0m\u001b]8;;\u001b\\\n",
       "\u001b[2;36m                    \u001b[0m         \u001b[1;35mfactory_agg_params\u001b[0m\u001b[1m(\u001b[0m\u001b[1m[\u001b[0mparams:agg.agg_columns,params:agg.agg_params\u001b[1m]\u001b[0m\u001b[1m)\u001b[0m ->      \u001b[2m           \u001b[0m\n",
       "\u001b[2;36m                    \u001b[0m         \u001b[1m[\u001b[0magg_params\u001b[1m]\u001b[0m                                                               \u001b[2m           \u001b[0m\n"
      ]
     },
     "metadata": {},
     "output_type": "display_data"
    },
    {
     "data": {
      "text/html": [
       "<pre style=\"white-space:pre;overflow-x:auto;line-height:normal;font-family:Menlo,'DejaVu Sans Mono',consolas,'Courier New',monospace\"><span style=\"color: #7fbfbf; text-decoration-color: #7fbfbf\">                    </span><span style=\"color: #000080; text-decoration-color: #000080\">INFO    </span> Saving data to <span style=\"color: #008000; text-decoration-color: #008000\">'agg_params'</span> <span style=\"font-weight: bold\">(</span>MemoryDataSet<span style=\"font-weight: bold\">)</span><span style=\"color: #808000; text-decoration-color: #808000\">...</span>                     <a href=\"file:///Users/arashitov/Library/Caches/pypoetry/virtualenvs/template-kedro-streamlit-vp26F0aP-py3.10/lib/python3.10/site-packages/kedro/io/data_catalog.py\" target=\"_blank\"><span style=\"color: #7f7f7f; text-decoration-color: #7f7f7f\">data_catalog.py</span></a><span style=\"color: #7f7f7f; text-decoration-color: #7f7f7f\">:</span><a href=\"file:///Users/arashitov/Library/Caches/pypoetry/virtualenvs/template-kedro-streamlit-vp26F0aP-py3.10/lib/python3.10/site-packages/kedro/io/data_catalog.py#382\" target=\"_blank\"><span style=\"color: #7f7f7f; text-decoration-color: #7f7f7f\">382</span></a>\n",
       "</pre>\n"
      ],
      "text/plain": [
       "\u001b[2;36m                   \u001b[0m\u001b[2;36m \u001b[0m\u001b[34mINFO    \u001b[0m Saving data to \u001b[32m'agg_params'\u001b[0m \u001b[1m(\u001b[0mMemoryDataSet\u001b[1m)\u001b[0m\u001b[33m...\u001b[0m                     \u001b]8;id=253553;file:///Users/arashitov/Library/Caches/pypoetry/virtualenvs/template-kedro-streamlit-vp26F0aP-py3.10/lib/python3.10/site-packages/kedro/io/data_catalog.py\u001b\\\u001b[2mdata_catalog.py\u001b[0m\u001b]8;;\u001b\\\u001b[2m:\u001b[0m\u001b]8;id=213041;file:///Users/arashitov/Library/Caches/pypoetry/virtualenvs/template-kedro-streamlit-vp26F0aP-py3.10/lib/python3.10/site-packages/kedro/io/data_catalog.py#382\u001b\\\u001b[2m382\u001b[0m\u001b]8;;\u001b\\\n"
      ]
     },
     "metadata": {},
     "output_type": "display_data"
    },
    {
     "data": {
      "text/html": [
       "<pre style=\"white-space:pre;overflow-x:auto;line-height:normal;font-family:Menlo,'DejaVu Sans Mono',consolas,'Courier New',monospace\"><span style=\"color: #7fbfbf; text-decoration-color: #7fbfbf\">                    </span><span style=\"color: #000080; text-decoration-color: #000080\">INFO    </span> Completed <span style=\"color: #008080; text-decoration-color: #008080; font-weight: bold\">1</span> out of <span style=\"color: #008080; text-decoration-color: #008080; font-weight: bold\">2</span> tasks                                     <a href=\"file:///Users/arashitov/Library/Caches/pypoetry/virtualenvs/template-kedro-streamlit-vp26F0aP-py3.10/lib/python3.10/site-packages/kedro/runner/sequential_runner.py\" target=\"_blank\"><span style=\"color: #7f7f7f; text-decoration-color: #7f7f7f\">sequential_runner.py</span></a><span style=\"color: #7f7f7f; text-decoration-color: #7f7f7f\">:</span><a href=\"file:///Users/arashitov/Library/Caches/pypoetry/virtualenvs/template-kedro-streamlit-vp26F0aP-py3.10/lib/python3.10/site-packages/kedro/runner/sequential_runner.py#85\" target=\"_blank\"><span style=\"color: #7f7f7f; text-decoration-color: #7f7f7f\">85</span></a>\n",
       "</pre>\n"
      ],
      "text/plain": [
       "\u001b[2;36m                   \u001b[0m\u001b[2;36m \u001b[0m\u001b[34mINFO    \u001b[0m Completed \u001b[1;36m1\u001b[0m out of \u001b[1;36m2\u001b[0m tasks                                     \u001b]8;id=824592;file:///Users/arashitov/Library/Caches/pypoetry/virtualenvs/template-kedro-streamlit-vp26F0aP-py3.10/lib/python3.10/site-packages/kedro/runner/sequential_runner.py\u001b\\\u001b[2msequential_runner.py\u001b[0m\u001b]8;;\u001b\\\u001b[2m:\u001b[0m\u001b]8;id=525553;file:///Users/arashitov/Library/Caches/pypoetry/virtualenvs/template-kedro-streamlit-vp26F0aP-py3.10/lib/python3.10/site-packages/kedro/runner/sequential_runner.py#85\u001b\\\u001b[2m85\u001b[0m\u001b]8;;\u001b\\\n"
      ]
     },
     "metadata": {},
     "output_type": "display_data"
    },
    {
     "data": {
      "text/html": [
       "<pre style=\"white-space:pre;overflow-x:auto;line-height:normal;font-family:Menlo,'DejaVu Sans Mono',consolas,'Courier New',monospace\"><span style=\"color: #7fbfbf; text-decoration-color: #7fbfbf\">                    </span><span style=\"color: #000080; text-decoration-color: #000080\">INFO    </span> Loading data from <span style=\"color: #008000; text-decoration-color: #008000\">'example_iris_data'</span> <span style=\"font-weight: bold\">(</span>CSVDataSet<span style=\"font-weight: bold\">)</span><span style=\"color: #808000; text-decoration-color: #808000\">...</span>              <a href=\"file:///Users/arashitov/Library/Caches/pypoetry/virtualenvs/template-kedro-streamlit-vp26F0aP-py3.10/lib/python3.10/site-packages/kedro/io/data_catalog.py\" target=\"_blank\"><span style=\"color: #7f7f7f; text-decoration-color: #7f7f7f\">data_catalog.py</span></a><span style=\"color: #7f7f7f; text-decoration-color: #7f7f7f\">:</span><a href=\"file:///Users/arashitov/Library/Caches/pypoetry/virtualenvs/template-kedro-streamlit-vp26F0aP-py3.10/lib/python3.10/site-packages/kedro/io/data_catalog.py#343\" target=\"_blank\"><span style=\"color: #7f7f7f; text-decoration-color: #7f7f7f\">343</span></a>\n",
       "</pre>\n"
      ],
      "text/plain": [
       "\u001b[2;36m                   \u001b[0m\u001b[2;36m \u001b[0m\u001b[34mINFO    \u001b[0m Loading data from \u001b[32m'example_iris_data'\u001b[0m \u001b[1m(\u001b[0mCSVDataSet\u001b[1m)\u001b[0m\u001b[33m...\u001b[0m              \u001b]8;id=968591;file:///Users/arashitov/Library/Caches/pypoetry/virtualenvs/template-kedro-streamlit-vp26F0aP-py3.10/lib/python3.10/site-packages/kedro/io/data_catalog.py\u001b\\\u001b[2mdata_catalog.py\u001b[0m\u001b]8;;\u001b\\\u001b[2m:\u001b[0m\u001b]8;id=338694;file:///Users/arashitov/Library/Caches/pypoetry/virtualenvs/template-kedro-streamlit-vp26F0aP-py3.10/lib/python3.10/site-packages/kedro/io/data_catalog.py#343\u001b\\\u001b[2m343\u001b[0m\u001b]8;;\u001b\\\n"
      ]
     },
     "metadata": {},
     "output_type": "display_data"
    },
    {
     "data": {
      "text/html": [
       "<pre style=\"white-space:pre;overflow-x:auto;line-height:normal;font-family:Menlo,'DejaVu Sans Mono',consolas,'Courier New',monospace\"><span style=\"color: #7fbfbf; text-decoration-color: #7fbfbf\">                    </span><span style=\"color: #000080; text-decoration-color: #000080\">INFO    </span> Loading data from <span style=\"color: #008000; text-decoration-color: #008000\">'params:agg.group_columns'</span> <span style=\"font-weight: bold\">(</span>MemoryDataSet<span style=\"font-weight: bold\">)</span><span style=\"color: #808000; text-decoration-color: #808000\">...</span>    <a href=\"file:///Users/arashitov/Library/Caches/pypoetry/virtualenvs/template-kedro-streamlit-vp26F0aP-py3.10/lib/python3.10/site-packages/kedro/io/data_catalog.py\" target=\"_blank\"><span style=\"color: #7f7f7f; text-decoration-color: #7f7f7f\">data_catalog.py</span></a><span style=\"color: #7f7f7f; text-decoration-color: #7f7f7f\">:</span><a href=\"file:///Users/arashitov/Library/Caches/pypoetry/virtualenvs/template-kedro-streamlit-vp26F0aP-py3.10/lib/python3.10/site-packages/kedro/io/data_catalog.py#343\" target=\"_blank\"><span style=\"color: #7f7f7f; text-decoration-color: #7f7f7f\">343</span></a>\n",
       "</pre>\n"
      ],
      "text/plain": [
       "\u001b[2;36m                   \u001b[0m\u001b[2;36m \u001b[0m\u001b[34mINFO    \u001b[0m Loading data from \u001b[32m'params:agg.group_columns'\u001b[0m \u001b[1m(\u001b[0mMemoryDataSet\u001b[1m)\u001b[0m\u001b[33m...\u001b[0m    \u001b]8;id=467785;file:///Users/arashitov/Library/Caches/pypoetry/virtualenvs/template-kedro-streamlit-vp26F0aP-py3.10/lib/python3.10/site-packages/kedro/io/data_catalog.py\u001b\\\u001b[2mdata_catalog.py\u001b[0m\u001b]8;;\u001b\\\u001b[2m:\u001b[0m\u001b]8;id=980992;file:///Users/arashitov/Library/Caches/pypoetry/virtualenvs/template-kedro-streamlit-vp26F0aP-py3.10/lib/python3.10/site-packages/kedro/io/data_catalog.py#343\u001b\\\u001b[2m343\u001b[0m\u001b]8;;\u001b\\\n"
      ]
     },
     "metadata": {},
     "output_type": "display_data"
    },
    {
     "data": {
      "text/html": [
       "<pre style=\"white-space:pre;overflow-x:auto;line-height:normal;font-family:Menlo,'DejaVu Sans Mono',consolas,'Courier New',monospace\"><span style=\"color: #7fbfbf; text-decoration-color: #7fbfbf\">                    </span><span style=\"color: #000080; text-decoration-color: #000080\">INFO    </span> Loading data from <span style=\"color: #008000; text-decoration-color: #008000\">'agg_params'</span> <span style=\"font-weight: bold\">(</span>MemoryDataSet<span style=\"font-weight: bold\">)</span><span style=\"color: #808000; text-decoration-color: #808000\">...</span>                  <a href=\"file:///Users/arashitov/Library/Caches/pypoetry/virtualenvs/template-kedro-streamlit-vp26F0aP-py3.10/lib/python3.10/site-packages/kedro/io/data_catalog.py\" target=\"_blank\"><span style=\"color: #7f7f7f; text-decoration-color: #7f7f7f\">data_catalog.py</span></a><span style=\"color: #7f7f7f; text-decoration-color: #7f7f7f\">:</span><a href=\"file:///Users/arashitov/Library/Caches/pypoetry/virtualenvs/template-kedro-streamlit-vp26F0aP-py3.10/lib/python3.10/site-packages/kedro/io/data_catalog.py#343\" target=\"_blank\"><span style=\"color: #7f7f7f; text-decoration-color: #7f7f7f\">343</span></a>\n",
       "</pre>\n"
      ],
      "text/plain": [
       "\u001b[2;36m                   \u001b[0m\u001b[2;36m \u001b[0m\u001b[34mINFO    \u001b[0m Loading data from \u001b[32m'agg_params'\u001b[0m \u001b[1m(\u001b[0mMemoryDataSet\u001b[1m)\u001b[0m\u001b[33m...\u001b[0m                  \u001b]8;id=665834;file:///Users/arashitov/Library/Caches/pypoetry/virtualenvs/template-kedro-streamlit-vp26F0aP-py3.10/lib/python3.10/site-packages/kedro/io/data_catalog.py\u001b\\\u001b[2mdata_catalog.py\u001b[0m\u001b]8;;\u001b\\\u001b[2m:\u001b[0m\u001b]8;id=354887;file:///Users/arashitov/Library/Caches/pypoetry/virtualenvs/template-kedro-streamlit-vp26F0aP-py3.10/lib/python3.10/site-packages/kedro/io/data_catalog.py#343\u001b\\\u001b[2m343\u001b[0m\u001b]8;;\u001b\\\n"
      ]
     },
     "metadata": {},
     "output_type": "display_data"
    },
    {
     "data": {
      "text/html": [
       "<pre style=\"white-space:pre;overflow-x:auto;line-height:normal;font-family:Menlo,'DejaVu Sans Mono',consolas,'Courier New',monospace\"><span style=\"color: #7fbfbf; text-decoration-color: #7fbfbf\">                    </span><span style=\"color: #000080; text-decoration-color: #000080\">INFO    </span> Running node: iris_aggregation_pipeline:                                   <a href=\"file:///Users/arashitov/Library/Caches/pypoetry/virtualenvs/template-kedro-streamlit-vp26F0aP-py3.10/lib/python3.10/site-packages/kedro/pipeline/node.py\" target=\"_blank\"><span style=\"color: #7f7f7f; text-decoration-color: #7f7f7f\">node.py</span></a><span style=\"color: #7f7f7f; text-decoration-color: #7f7f7f\">:</span><a href=\"file:///Users/arashitov/Library/Caches/pypoetry/virtualenvs/template-kedro-streamlit-vp26F0aP-py3.10/lib/python3.10/site-packages/kedro/pipeline/node.py#327\" target=\"_blank\"><span style=\"color: #7f7f7f; text-decoration-color: #7f7f7f\">327</span></a>\n",
       "<span style=\"color: #7fbfbf; text-decoration-color: #7fbfbf\">                    </span>         <span style=\"color: #800080; text-decoration-color: #800080; font-weight: bold\">aggregate_dataset</span><span style=\"font-weight: bold\">([</span>example_iris_data,params:agg.group_columns,agg_params<span style=\"font-weight: bold\">])</span> <span style=\"color: #7f7f7f; text-decoration-color: #7f7f7f\">           </span>\n",
       "<span style=\"color: #7fbfbf; text-decoration-color: #7fbfbf\">                    </span>         -&gt; <span style=\"font-weight: bold\">[</span>iris_aggregation<span style=\"font-weight: bold\">]</span>                                                      <span style=\"color: #7f7f7f; text-decoration-color: #7f7f7f\">           </span>\n",
       "</pre>\n"
      ],
      "text/plain": [
       "\u001b[2;36m                   \u001b[0m\u001b[2;36m \u001b[0m\u001b[34mINFO    \u001b[0m Running node: iris_aggregation_pipeline:                                   \u001b]8;id=221695;file:///Users/arashitov/Library/Caches/pypoetry/virtualenvs/template-kedro-streamlit-vp26F0aP-py3.10/lib/python3.10/site-packages/kedro/pipeline/node.py\u001b\\\u001b[2mnode.py\u001b[0m\u001b]8;;\u001b\\\u001b[2m:\u001b[0m\u001b]8;id=238129;file:///Users/arashitov/Library/Caches/pypoetry/virtualenvs/template-kedro-streamlit-vp26F0aP-py3.10/lib/python3.10/site-packages/kedro/pipeline/node.py#327\u001b\\\u001b[2m327\u001b[0m\u001b]8;;\u001b\\\n",
       "\u001b[2;36m                    \u001b[0m         \u001b[1;35maggregate_dataset\u001b[0m\u001b[1m(\u001b[0m\u001b[1m[\u001b[0mexample_iris_data,params:agg.group_columns,agg_params\u001b[1m]\u001b[0m\u001b[1m)\u001b[0m \u001b[2m           \u001b[0m\n",
       "\u001b[2;36m                    \u001b[0m         -> \u001b[1m[\u001b[0miris_aggregation\u001b[1m]\u001b[0m                                                      \u001b[2m           \u001b[0m\n"
      ]
     },
     "metadata": {},
     "output_type": "display_data"
    },
    {
     "data": {
      "text/html": [
       "<pre style=\"white-space:pre;overflow-x:auto;line-height:normal;font-family:Menlo,'DejaVu Sans Mono',consolas,'Courier New',monospace\"><span style=\"color: #7fbfbf; text-decoration-color: #7fbfbf\">                    </span><span style=\"color: #000080; text-decoration-color: #000080\">INFO    </span> Saving data to <span style=\"color: #008000; text-decoration-color: #008000\">'iris_aggregation'</span> <span style=\"font-weight: bold\">(</span>MemoryDataSet<span style=\"font-weight: bold\">)</span><span style=\"color: #808000; text-decoration-color: #808000\">...</span>               <a href=\"file:///Users/arashitov/Library/Caches/pypoetry/virtualenvs/template-kedro-streamlit-vp26F0aP-py3.10/lib/python3.10/site-packages/kedro/io/data_catalog.py\" target=\"_blank\"><span style=\"color: #7f7f7f; text-decoration-color: #7f7f7f\">data_catalog.py</span></a><span style=\"color: #7f7f7f; text-decoration-color: #7f7f7f\">:</span><a href=\"file:///Users/arashitov/Library/Caches/pypoetry/virtualenvs/template-kedro-streamlit-vp26F0aP-py3.10/lib/python3.10/site-packages/kedro/io/data_catalog.py#382\" target=\"_blank\"><span style=\"color: #7f7f7f; text-decoration-color: #7f7f7f\">382</span></a>\n",
       "</pre>\n"
      ],
      "text/plain": [
       "\u001b[2;36m                   \u001b[0m\u001b[2;36m \u001b[0m\u001b[34mINFO    \u001b[0m Saving data to \u001b[32m'iris_aggregation'\u001b[0m \u001b[1m(\u001b[0mMemoryDataSet\u001b[1m)\u001b[0m\u001b[33m...\u001b[0m               \u001b]8;id=905002;file:///Users/arashitov/Library/Caches/pypoetry/virtualenvs/template-kedro-streamlit-vp26F0aP-py3.10/lib/python3.10/site-packages/kedro/io/data_catalog.py\u001b\\\u001b[2mdata_catalog.py\u001b[0m\u001b]8;;\u001b\\\u001b[2m:\u001b[0m\u001b]8;id=286655;file:///Users/arashitov/Library/Caches/pypoetry/virtualenvs/template-kedro-streamlit-vp26F0aP-py3.10/lib/python3.10/site-packages/kedro/io/data_catalog.py#382\u001b\\\u001b[2m382\u001b[0m\u001b]8;;\u001b\\\n"
      ]
     },
     "metadata": {},
     "output_type": "display_data"
    },
    {
     "data": {
      "text/html": [
       "<pre style=\"white-space:pre;overflow-x:auto;line-height:normal;font-family:Menlo,'DejaVu Sans Mono',consolas,'Courier New',monospace\"><span style=\"color: #7fbfbf; text-decoration-color: #7fbfbf\">                    </span><span style=\"color: #000080; text-decoration-color: #000080\">INFO    </span> Completed <span style=\"color: #008080; text-decoration-color: #008080; font-weight: bold\">2</span> out of <span style=\"color: #008080; text-decoration-color: #008080; font-weight: bold\">2</span> tasks                                     <a href=\"file:///Users/arashitov/Library/Caches/pypoetry/virtualenvs/template-kedro-streamlit-vp26F0aP-py3.10/lib/python3.10/site-packages/kedro/runner/sequential_runner.py\" target=\"_blank\"><span style=\"color: #7f7f7f; text-decoration-color: #7f7f7f\">sequential_runner.py</span></a><span style=\"color: #7f7f7f; text-decoration-color: #7f7f7f\">:</span><a href=\"file:///Users/arashitov/Library/Caches/pypoetry/virtualenvs/template-kedro-streamlit-vp26F0aP-py3.10/lib/python3.10/site-packages/kedro/runner/sequential_runner.py#85\" target=\"_blank\"><span style=\"color: #7f7f7f; text-decoration-color: #7f7f7f\">85</span></a>\n",
       "</pre>\n"
      ],
      "text/plain": [
       "\u001b[2;36m                   \u001b[0m\u001b[2;36m \u001b[0m\u001b[34mINFO    \u001b[0m Completed \u001b[1;36m2\u001b[0m out of \u001b[1;36m2\u001b[0m tasks                                     \u001b]8;id=568769;file:///Users/arashitov/Library/Caches/pypoetry/virtualenvs/template-kedro-streamlit-vp26F0aP-py3.10/lib/python3.10/site-packages/kedro/runner/sequential_runner.py\u001b\\\u001b[2msequential_runner.py\u001b[0m\u001b]8;;\u001b\\\u001b[2m:\u001b[0m\u001b]8;id=860455;file:///Users/arashitov/Library/Caches/pypoetry/virtualenvs/template-kedro-streamlit-vp26F0aP-py3.10/lib/python3.10/site-packages/kedro/runner/sequential_runner.py#85\u001b\\\u001b[2m85\u001b[0m\u001b]8;;\u001b\\\n"
      ]
     },
     "metadata": {},
     "output_type": "display_data"
    },
    {
     "data": {
      "text/html": [
       "<pre style=\"white-space:pre;overflow-x:auto;line-height:normal;font-family:Menlo,'DejaVu Sans Mono',consolas,'Courier New',monospace\"><span style=\"color: #7fbfbf; text-decoration-color: #7fbfbf\">                    </span><span style=\"color: #000080; text-decoration-color: #000080\">INFO    </span> Pipeline execution completed successfully.                                <a href=\"file:///Users/arashitov/Library/Caches/pypoetry/virtualenvs/template-kedro-streamlit-vp26F0aP-py3.10/lib/python3.10/site-packages/kedro/runner/runner.py\" target=\"_blank\"><span style=\"color: #7f7f7f; text-decoration-color: #7f7f7f\">runner.py</span></a><span style=\"color: #7f7f7f; text-decoration-color: #7f7f7f\">:</span><a href=\"file:///Users/arashitov/Library/Caches/pypoetry/virtualenvs/template-kedro-streamlit-vp26F0aP-py3.10/lib/python3.10/site-packages/kedro/runner/runner.py#90\" target=\"_blank\"><span style=\"color: #7f7f7f; text-decoration-color: #7f7f7f\">90</span></a>\n",
       "</pre>\n"
      ],
      "text/plain": [
       "\u001b[2;36m                   \u001b[0m\u001b[2;36m \u001b[0m\u001b[34mINFO    \u001b[0m Pipeline execution completed successfully.                                \u001b]8;id=61039;file:///Users/arashitov/Library/Caches/pypoetry/virtualenvs/template-kedro-streamlit-vp26F0aP-py3.10/lib/python3.10/site-packages/kedro/runner/runner.py\u001b\\\u001b[2mrunner.py\u001b[0m\u001b]8;;\u001b\\\u001b[2m:\u001b[0m\u001b]8;id=506585;file:///Users/arashitov/Library/Caches/pypoetry/virtualenvs/template-kedro-streamlit-vp26F0aP-py3.10/lib/python3.10/site-packages/kedro/runner/runner.py#90\u001b\\\u001b[2m90\u001b[0m\u001b]8;;\u001b\\\n"
      ]
     },
     "metadata": {},
     "output_type": "display_data"
    },
    {
     "data": {
      "text/html": [
       "<pre style=\"white-space:pre;overflow-x:auto;line-height:normal;font-family:Menlo,'DejaVu Sans Mono',consolas,'Courier New',monospace\"><span style=\"color: #7fbfbf; text-decoration-color: #7fbfbf\">                    </span><span style=\"color: #000080; text-decoration-color: #000080\">INFO    </span> Loading data from <span style=\"color: #008000; text-decoration-color: #008000\">'iris_aggregation'</span> <span style=\"font-weight: bold\">(</span>MemoryDataSet<span style=\"font-weight: bold\">)</span><span style=\"color: #808000; text-decoration-color: #808000\">...</span>            <a href=\"file:///Users/arashitov/Library/Caches/pypoetry/virtualenvs/template-kedro-streamlit-vp26F0aP-py3.10/lib/python3.10/site-packages/kedro/io/data_catalog.py\" target=\"_blank\"><span style=\"color: #7f7f7f; text-decoration-color: #7f7f7f\">data_catalog.py</span></a><span style=\"color: #7f7f7f; text-decoration-color: #7f7f7f\">:</span><a href=\"file:///Users/arashitov/Library/Caches/pypoetry/virtualenvs/template-kedro-streamlit-vp26F0aP-py3.10/lib/python3.10/site-packages/kedro/io/data_catalog.py#343\" target=\"_blank\"><span style=\"color: #7f7f7f; text-decoration-color: #7f7f7f\">343</span></a>\n",
       "</pre>\n"
      ],
      "text/plain": [
       "\u001b[2;36m                   \u001b[0m\u001b[2;36m \u001b[0m\u001b[34mINFO    \u001b[0m Loading data from \u001b[32m'iris_aggregation'\u001b[0m \u001b[1m(\u001b[0mMemoryDataSet\u001b[1m)\u001b[0m\u001b[33m...\u001b[0m            \u001b]8;id=719747;file:///Users/arashitov/Library/Caches/pypoetry/virtualenvs/template-kedro-streamlit-vp26F0aP-py3.10/lib/python3.10/site-packages/kedro/io/data_catalog.py\u001b\\\u001b[2mdata_catalog.py\u001b[0m\u001b]8;;\u001b\\\u001b[2m:\u001b[0m\u001b]8;id=478888;file:///Users/arashitov/Library/Caches/pypoetry/virtualenvs/template-kedro-streamlit-vp26F0aP-py3.10/lib/python3.10/site-packages/kedro/io/data_catalog.py#343\u001b\\\u001b[2m343\u001b[0m\u001b]8;;\u001b\\\n"
      ]
     },
     "metadata": {},
     "output_type": "display_data"
    },
    {
     "data": {
      "text/html": [
       "<div>\n",
       "<style scoped>\n",
       "    .dataframe tbody tr th:only-of-type {\n",
       "        vertical-align: middle;\n",
       "    }\n",
       "\n",
       "    .dataframe tbody tr th {\n",
       "        vertical-align: top;\n",
       "    }\n",
       "\n",
       "    .dataframe thead th {\n",
       "        text-align: right;\n",
       "    }\n",
       "</style>\n",
       "<table border=\"1\" class=\"dataframe\">\n",
       "  <thead>\n",
       "    <tr style=\"text-align: right;\">\n",
       "      <th></th>\n",
       "      <th>species</th>\n",
       "      <th>sepal_length_mean</th>\n",
       "      <th>sepal_length_median</th>\n",
       "    </tr>\n",
       "  </thead>\n",
       "  <tbody>\n",
       "    <tr>\n",
       "      <th>0</th>\n",
       "      <td>setosa</td>\n",
       "      <td>5.006</td>\n",
       "      <td>5.0</td>\n",
       "    </tr>\n",
       "    <tr>\n",
       "      <th>1</th>\n",
       "      <td>versicolor</td>\n",
       "      <td>5.936</td>\n",
       "      <td>5.9</td>\n",
       "    </tr>\n",
       "    <tr>\n",
       "      <th>2</th>\n",
       "      <td>virginica</td>\n",
       "      <td>6.588</td>\n",
       "      <td>6.5</td>\n",
       "    </tr>\n",
       "  </tbody>\n",
       "</table>\n",
       "</div>"
      ]
     },
     "execution_count": 4,
     "metadata": {},
     "output_type": "execute_result"
    }
   ],
   "source": [
    "from kedro.framework.startup import bootstrap_project\n",
    "from kedro.framework.session import KedroSession\n",
    "\n",
    "\n",
    "_ = bootstrap_project(PROJECT_DIR)  # NOTE: startup execution\n",
    "kedro_session = KedroSession.create(\n",
    "    package_name=\"pipelines\",\n",
    "    project_path=PROJECT_DIR,\n",
    "    extra_params={\"agg.agg_columns\": [\"sepal_length\"]},  # NOTE: <- this parameters is critical to override arguments\n",
    ")\n",
    "\n",
    "\n",
    "kedro_session.run(pipeline_name=\"iris_agg\")[\"iris_aggregation\"]"
   ]
  },
  {
   "cell_type": "code",
   "execution_count": 3,
   "id": "513b58f3",
   "metadata": {},
   "outputs": [],
   "source": [
    "from kedro.config import ConfigLoader\n",
    "from kedro.framework.context import KedroContext\n",
    "from kedro.framework.hooks import _create_hook_manager\n",
    "\n",
    "\n",
    "PROJECT_CONF_DIR = PROJECT_DIR + \"/conf\"\n",
    "config_loader = ConfigLoader(conf_source=PROJECT_CONF_DIR)\n",
    "\n",
    "\n",
    "context = KedroContext(\n",
    "    package_name=\"pipelines\",\n",
    "    project_path=PROJECT_DIR,\n",
    "    config_loader=config_loader,\n",
    "    hook_manager=_create_hook_manager(),\n",
    ")"
   ]
  },
  {
   "cell_type": "code",
   "execution_count": 8,
   "id": "96168f52",
   "metadata": {},
   "outputs": [],
   "source": [
    "credentials = context.config_loader.get(\"credentials_streamlit.yaml\")"
   ]
  },
  {
   "cell_type": "code",
   "execution_count": 10,
   "id": "03bacd72",
   "metadata": {},
   "outputs": [
    {
     "name": "stdout",
     "output_type": "stream",
     "text": [
      "\u001b[2;36m[01/06/23 12:41:52]\u001b[0m\u001b[2;36m \u001b[0m\u001b[31mWARNING \u001b[0m                              \u001b]8;id=602142;file:///Users/arashitov/Library/Caches/pypoetry/virtualenvs/template-kedro-streamlit-F8QIBwF9-py3.10/lib/python3.10/site-packages/streamlit/delta_generator.py\u001b\\\u001b[2mdelta_generator.py\u001b[0m\u001b]8;;\u001b\\\u001b[2m:\u001b[0m\u001b]8;id=113276;file:///Users/arashitov/Library/Caches/pypoetry/virtualenvs/template-kedro-streamlit-F8QIBwF9-py3.10/lib/python3.10/site-packages/streamlit/delta_generator.py#144\u001b\\\u001b[2m144\u001b[0m\u001b]8;;\u001b\\\n",
      "\u001b[2;36m                    \u001b[0m           \u001b\u001b[1m[\u001b[0m33m\u001b\u001b[1m[\u001b[0m1mWarning:\u001b\u001b[1m[\u001b[0m0m to view \u001b[2m                      \u001b[0m\n",
      "\u001b[2;36m                    \u001b[0m         this Streamlit app on a      \u001b[2m                      \u001b[0m\n",
      "\u001b[2;36m                    \u001b[0m         browser, run it with the     \u001b[2m                      \u001b[0m\n",
      "\u001b[2;36m                    \u001b[0m         following                    \u001b[2m                      \u001b[0m\n",
      "\u001b[2;36m                    \u001b[0m           command:                   \u001b[2m                      \u001b[0m\n",
      "\u001b[2;36m                    \u001b[0m                                      \u001b[2m                      \u001b[0m\n",
      "\u001b[2;36m                    \u001b[0m             streamlit run            \u001b[2m                      \u001b[0m\n",
      "\u001b[2;36m                    \u001b[0m         \u001b[35m/Users/arashitov/Library/Cac\u001b[0m \u001b[2m                      \u001b[0m\n",
      "\u001b[2;36m                    \u001b[0m         \u001b[35mhes/pypoetry/virtualenvs/tem\u001b[0m \u001b[2m                      \u001b[0m\n",
      "\u001b[2;36m                    \u001b[0m         \u001b[35mplate-kedro-streamlit-F8QIBw\u001b[0m \u001b[2m                      \u001b[0m\n",
      "\u001b[2;36m                    \u001b[0m         \u001b[35mF9-py3.10/lib/python3.10/sit\u001b[0m \u001b[2m                      \u001b[0m\n",
      "\u001b[2;36m                    \u001b[0m         \u001b[35me-packages/\u001b[0m\u001b[95mipykernel_launche\u001b[0m \u001b[2m                      \u001b[0m\n",
      "\u001b[2;36m                    \u001b[0m         \u001b[95mr.py\u001b[0m \u001b[1m[\u001b[0mARGUMENTS\u001b[1m]\u001b[0m             \u001b[2m                      \u001b[0m\n"
     ]
    },
    {
     "name": "stderr",
     "output_type": "stream",
     "text": [
      "2023-01-06 12:41:52.815 \n",
      "  \u001b[33m\u001b[1mWarning:\u001b[0m to view this Streamlit app on a browser, run it with the following\n",
      "  command:\n",
      "\n",
      "    streamlit run /Users/arashitov/Library/Caches/pypoetry/virtualenvs/template-kedro-streamlit-F8QIBwF9-py3.10/lib/python3.10/site-packages/ipykernel_launcher.py [ARGUMENTS]\n",
      "2023-01-06 12:41:52.820 Session state does not function when running a script without `streamlit run`\n"
     ]
    }
   ],
   "source": [
    "import streamlit_authenticator as stauth\n",
    "\n",
    "\n",
    "authenticator = stauth.Authenticate(\n",
    "    credentials['credentials'],\n",
    "    credentials['cookie']['name'],\n",
    "    credentials['cookie']['key'],\n",
    "    credentials['cookie']['expiry_days'],\n",
    "    credentials['preauthorized'],\n",
    ")"
   ]
  },
  {
   "cell_type": "code",
   "execution_count": null,
   "id": "cc19143d",
   "metadata": {},
   "outputs": [],
   "source": [
    "authenticator.login()"
   ]
  }
 ],
 "metadata": {
  "kernelspec": {
   "display_name": "Python 3 (ipykernel)",
   "language": "python",
   "name": "python3"
  },
  "language_info": {
   "codemirror_mode": {
    "name": "ipython",
    "version": 3
   },
   "file_extension": ".py",
   "mimetype": "text/x-python",
   "name": "python",
   "nbconvert_exporter": "python",
   "pygments_lexer": "ipython3",
   "version": "3.10.9"
  },
  "varInspector": {
   "cols": {
    "lenName": 16,
    "lenType": 16,
    "lenVar": 40
   },
   "kernels_config": {
    "python": {
     "delete_cmd_postfix": "",
     "delete_cmd_prefix": "del ",
     "library": "var_list.py",
     "varRefreshCmd": "print(var_dic_list())"
    },
    "r": {
     "delete_cmd_postfix": ") ",
     "delete_cmd_prefix": "rm(",
     "library": "var_list.r",
     "varRefreshCmd": "cat(var_dic_list()) "
    }
   },
   "types_to_exclude": [
    "module",
    "function",
    "builtin_function_or_method",
    "instance",
    "_Feature"
   ],
   "window_display": false
  }
 },
 "nbformat": 4,
 "nbformat_minor": 5
}
